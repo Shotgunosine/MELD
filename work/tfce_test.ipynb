{
 "cells": [
  {
   "cell_type": "code",
   "execution_count": 1,
   "metadata": {},
   "outputs": [],
   "source": [
    "import meld\n",
    "import numpy as np\n",
    "\n",
    "import matplotlib.pyplot as plt\n",
    "% matplotlib inline"
   ]
  },
  {
   "cell_type": "code",
   "execution_count": 31,
   "metadata": {},
   "outputs": [
    {
     "data": {
      "text/plain": [
       "<matplotlib.lines.Line2D at 0x7fdc24a2c320>"
      ]
     },
     "execution_count": 31,
     "metadata": {},
     "output_type": "execute_result"
    },
    {
     "data": {
      "image/png": "[encoded data removed]",
      "text/plain": [
       "<Figure size 432x288 with 1 Axes>"
      ]
     },
     "metadata": {},
     "output_type": "display_data"
    }
   ],
   "source": [
    "test_conn = meld.cluster.sparse_dim_connectivity([meld.cluster.simple_neighbors_1d(n)\n",
    "                                               for n in (6,6)])\n",
    "\n",
    "plt.spy(test_conn)\n",
    "\n",
    "#test_conn.col[test_conn.row==1]\n",
    "#test_conn.row[test_conn.col==1]"
   ]
  },
  {
   "cell_type": "code",
   "execution_count": 32,
   "metadata": {},
   "outputs": [],
   "source": [
    "# we assume all pixels have unit area\n",
    "pixelSize = 1\n",
    "\n",
    "# TFCE parameters\n",
    "E = 2/3\n",
    "H = 2"
   ]
  },
  {
   "cell_type": "code",
   "execution_count": 33,
   "metadata": {},
   "outputs": [
    {
     "data": {
      "text/plain": [
       "41.666666666666664"
      ]
     },
     "execution_count": 33,
     "metadata": {},
     "output_type": "execute_result"
    }
   ],
   "source": [
    "# Test Case #1 : single non-zero pixel\n",
    "\n",
    "test = np.array([[ 0. ,  0. ,  0. ,  0. ,  0. ,  0. ],\n",
    "                 [ 0. ,  0. ,  0. ,  0. ,  0. ,  0. ],\n",
    "                 [ 0. ,  0. ,  0. ,  0. ,  0. ,  0. ],\n",
    "                 [ 0. ,  0. ,  0. ,  5. ,  0. ,  0. ],\n",
    "                 [ 0. ,  0. ,  0. ,  0. ,  0. ,  0. ],\n",
    "                 [ 0. ,  0. ,  0. ,  0. ,  0. ,  0. ]])\n",
    "\n",
    "\n",
    "trueTFCE = np.power(pixelSize,E) * np.power(5.,H+1) / (H+1)\n",
    "trueTFCE"
   ]
  },
  {
   "cell_type": "markdown",
   "metadata": {},
   "source": [
    "Approximate the integral as: $\\int_0^h_p e(h)^E h^H dh \\approx \\sum_{i=0}^{i=\\frac{h_p}{\\delta h}} e(i \\delta h)^E (i \\delta h)^H \\delta h$"
   ]
  },
  {
   "cell_type": "code",
   "execution_count": 5,
   "metadata": {},
   "outputs": [
    {
     "data": {
      "text/plain": [
       "41.541750000000008"
      ]
     },
     "execution_count": 5,
     "metadata": {},
     "output_type": "execute_result"
    }
   ],
   "source": [
    "dh = .01\n",
    "np.sum(np.power(pixelSize, E) * np.power(np.arange(0.,5.,dh), H) * dh)"
   ]
  },
  {
   "cell_type": "code",
   "execution_count": 6,
   "metadata": {},
   "outputs": [
    {
     "data": {
      "text/plain": [
       "array([  0.        ,   0.        ,   0.        ,   0.        ,\n",
       "         0.        ,   0.        ,   0.        ,   0.        ,\n",
       "         0.        ,   0.        ,   0.        ,   0.        ,\n",
       "         0.        ,   0.        ,   0.        ,   0.        ,\n",
       "         0.        ,   0.        ,   0.        ,   0.        ,\n",
       "         0.        ,  41.66666667,   0.        ,   0.        ,\n",
       "         0.        ,   0.        ,   0.        ,   0.        ,\n",
       "         0.        ,   0.        ,   0.        ,   0.        ,\n",
       "         0.        ,   0.        ,   0.        ,   0.        ])"
      ]
     },
     "execution_count": 6,
     "metadata": {},
     "output_type": "execute_result"
    }
   ],
   "source": [
    "colData = test.flatten()\n",
    "areaData = pixelSize * np.ones_like(colData)\n",
    "tres_topdown = meld.cluster_topdown.tfce_pos(colData, areaData, test_conn, param_E = E, param_H = H)\n",
    "tres_topdown"
   ]
  },
  {
   "cell_type": "code",
   "execution_count": 7,
   "metadata": {},
   "outputs": [
    {
     "data": {
      "text/plain": [
       "104.99342082457277"
      ]
     },
     "execution_count": 7,
     "metadata": {},
     "output_type": "execute_result"
    }
   ],
   "source": [
    "# Test Case #2 : single non-zero cluster\n",
    "test = np.array([[ 0. ,  0. ,  0. ,  0. ,  0. ,  0. ],\n",
    "                 [ 0. ,  0. ,  0. ,  0. ,  0. ,  0. ],\n",
    "                 [ 0. ,  0. ,  0. ,  0. ,  0. ,  0. ],\n",
    "                 [ 0. ,  0. ,  0. ,  5. ,  5. ,  0. ],\n",
    "                 [ 0. ,  0. ,  0. ,  5. ,  5. ,  0. ],\n",
    "                 [ 0. ,  0. ,  0. ,  0. ,  0. ,  0. ]])\n",
    "\n",
    "trueTFCE = np.power(4*pixelSize,E) * np.power(5.,H+1) / (H+1)\n",
    "trueTFCE"
   ]
  },
  {
   "cell_type": "code",
   "execution_count": 8,
   "metadata": {},
   "outputs": [
    {
     "data": {
      "text/plain": [
       "array([   0.        ,    0.        ,    0.        ,    0.        ,\n",
       "          0.        ,    0.        ,    0.        ,    0.        ,\n",
       "          0.        ,    0.        ,    0.        ,    0.        ,\n",
       "          0.        ,    0.        ,    0.        ,    0.        ,\n",
       "          0.        ,    0.        ,    0.        ,    0.        ,\n",
       "          0.        ,  104.99342082,  104.99342082,    0.        ,\n",
       "          0.        ,    0.        ,    0.        ,  104.99342082,\n",
       "        104.99342082,    0.        ,    0.        ,    0.        ,\n",
       "          0.        ,    0.        ,    0.        ,    0.        ])"
      ]
     },
     "execution_count": 8,
     "metadata": {},
     "output_type": "execute_result"
    }
   ],
   "source": [
    "# run using cluster_topdown\n",
    "\n",
    "colData = test.flatten()\n",
    "areaData = pixelSize * np.ones_like(colData)\n",
    "tres_topdown = meld.cluster_topdown.tfce_pos(colData, areaData, test_conn, param_E = E, param_H = H)\n",
    "tres_topdown"
   ]
  },
  {
   "cell_type": "code",
   "execution_count": 34,
   "metadata": {},
   "outputs": [
    {
     "name": "stdout",
     "output_type": "stream",
     "text": [
      "trueTFCE_3 = 104.993420825\n",
      "trueTFCE_5 = 14.2866094677\n"
     ]
    }
   ],
   "source": [
    "# Test Case #3 : two isolated non-zero clusters\n",
    "test = np.array([[ 3. ,  3. ,  0. ,  0. ,  0. ,  0. ],\n",
    "                 [ 0. ,  0. ,  0. ,  0. ,  0. ,  0. ],\n",
    "                 [ 0. ,  0. ,  0. ,  0. ,  0. ,  0. ],\n",
    "                 [ 0. ,  0. ,  0. ,  5. ,  5. ,  0. ],\n",
    "                 [ 0. ,  0. ,  0. ,  5. ,  5. ,  0. ],\n",
    "                 [ 0. ,  0. ,  0. ,  0. ,  0. ,  0. ]])\n",
    "\n",
    "trueTFCE_3 = np.power(4*pixelSize,E) * np.power(5.,H+1) / (H+1)\n",
    "print('trueTFCE_3 = ' + str(trueTFCE_3))\n",
    "\n",
    "trueTFCE_5 = np.power(2*pixelSize,E) * np.power(3.,H+1) / (H+1)\n",
    "print('trueTFCE_5 = ' + str(trueTFCE_5))"
   ]
  },
  {
   "cell_type": "code",
   "execution_count": 35,
   "metadata": {},
   "outputs": [
    {
     "data": {
      "text/plain": [
       "array([  14.28660947,   14.28660947,    0.        ,    0.        ,\n",
       "          0.        ,    0.        ,    0.        ,    0.        ,\n",
       "          0.        ,    0.        ,    0.        ,    0.        ,\n",
       "          0.        ,    0.        ,    0.        ,    0.        ,\n",
       "          0.        ,    0.        ,    0.        ,    0.        ,\n",
       "          0.        ,  104.99342082,  104.99342082,    0.        ,\n",
       "          0.        ,    0.        ,    0.        ,  104.99342082,\n",
       "        104.99342082,    0.        ,    0.        ,    0.        ,\n",
       "          0.        ,    0.        ,    0.        ,    0.        ])"
      ]
     },
     "execution_count": 35,
     "metadata": {},
     "output_type": "execute_result"
    }
   ],
   "source": [
    "# run using cluster_topdown\n",
    "\n",
    "colData = test.flatten()\n",
    "areaData = pixelSize * np.ones_like(colData)\n",
    "tres_topdown = meld.cluster_topdown.tfce_pos(colData, areaData, test_conn, param_E = E, param_H = H)\n",
    "tres_topdown"
   ]
  },
  {
   "cell_type": "code",
   "execution_count": 36,
   "metadata": {},
   "outputs": [
    {
     "name": "stdout",
     "output_type": "stream",
     "text": [
      "trueTFCE_2 = 13.1895665153\n",
      "trueTFCE_3 = 29.1485664807\n",
      "trueTFCE_5 = 111.463408407\n"
     ]
    }
   ],
   "source": [
    "# Test Case #3 : two non-isolated non-zero clusters (peaks)\n",
    "test = np.array([[ 3. ,  3. ,  0. ,  0. ,  0. ,  0. ],\n",
    "                 [ 3. ,  3. ,  2. ,  0. ,  0. ,  0. ],\n",
    "                 [ 0. ,  0. ,  2. ,  0. ,  0. ,  0. ],\n",
    "                 [ 0. ,  0. ,  2. ,  5. ,  5. ,  0. ],\n",
    "                 [ 0. ,  0. ,  0. ,  5. ,  5. ,  0. ],\n",
    "                 [ 0. ,  0. ,  0. ,  0. ,  0. ,  0. ]])\n",
    "\n",
    "trueTFCE_2 = np.power(11*pixelSize,E) * np.power(2.,H+1) / (H+1)\n",
    "print('trueTFCE_2 = ' + str(trueTFCE_2))\n",
    "\n",
    "trueTFCE_3 = trueTFCE_2 + np.power(4*pixelSize, E) * ( np.power(3., H+1) - np.power(2., H+1) ) / (H+1)\n",
    "print('trueTFCE_3 = ' + str(trueTFCE_3))\n",
    "\n",
    "trueTFCE_5 = trueTFCE_2 + np.power(4*pixelSize, E) * ( np.power(5., H+1) - np.power(2., H+1) ) / (H+1)\n",
    "print('trueTFCE_5 = ' + str(trueTFCE_5))"
   ]
  },
  {
   "cell_type": "code",
   "execution_count": 37,
   "metadata": {},
   "outputs": [
    {
     "data": {
      "text/plain": [
       "array([  29.14856648,   29.14856648,    0.        ,    0.        ,\n",
       "          0.        ,    0.        ,   29.14856648,   29.14856648,\n",
       "         13.18956652,    0.        ,    0.        ,    0.        ,\n",
       "          0.        ,    0.        ,   13.18956652,    0.        ,\n",
       "          0.        ,    0.        ,    0.        ,    0.        ,\n",
       "         13.18956652,  111.46340841,  111.46340841,    0.        ,\n",
       "          0.        ,    0.        ,    0.        ,  111.46340841,\n",
       "        111.46340841,    0.        ,    0.        ,    0.        ,\n",
       "          0.        ,    0.        ,    0.        ,    0.        ])"
      ]
     },
     "execution_count": 37,
     "metadata": {},
     "output_type": "execute_result"
    }
   ],
   "source": [
    "# run using cluster_topdown\n",
    "\n",
    "colData = test.flatten()\n",
    "areaData = pixelSize * np.ones_like(colData)\n",
    "tres_topdown = meld.cluster_topdown.tfce_pos(colData, areaData, test_conn, param_E = E, param_H = H)\n",
    "tres_topdown"
   ]
  },
  {
   "cell_type": "code",
   "execution_count": 2,
   "metadata": {},
   "outputs": [],
   "source": [
    "import timeit"
   ]
  },
  {
   "cell_type": "code",
   "execution_count": 39,
   "metadata": {},
   "outputs": [],
   "source": [
    "def tfce_old():\n",
    "    meld.cluster.tfce(colData,dt=0.1, E=E, H=H,tail=1, connectivity = test_conn)"
   ]
  },
  {
   "cell_type": "code",
   "execution_count": 40,
   "metadata": {},
   "outputs": [],
   "source": [
    "def tfce_topdown():\n",
    "    meld.cluster_topdown.tfce_pos(colData, areaData, test_conn, param_E = E, param_H = H)"
   ]
  },
  {
   "cell_type": "code",
   "execution_count": 52,
   "metadata": {},
   "outputs": [
    {
     "data": {
      "text/plain": [
       "0.25345190000371076"
      ]
     },
     "execution_count": 52,
     "metadata": {},
     "output_type": "execute_result"
    }
   ],
   "source": [
    "time_topdown = timeit.timeit(tfce_topdown, number=1000)\n",
    "time_topdown"
   ]
  },
  {
   "cell_type": "code",
   "execution_count": 42,
   "metadata": {},
   "outputs": [
    {
     "data": {
      "text/plain": [
       "9.084642599998915"
      ]
     },
     "execution_count": 42,
     "metadata": {},
     "output_type": "execute_result"
    }
   ],
   "source": [
    "timeit.timeit(tfce_old, number=1000)"
   ]
  },
  {
   "cell_type": "code",
   "execution_count": 43,
   "metadata": {},
   "outputs": [
    {
     "data": {
      "text/plain": [
       "36.481979991160756"
      ]
     },
     "execution_count": 43,
     "metadata": {},
     "output_type": "execute_result"
    }
   ],
   "source": [
    "9.08/.24889"
   ]
  },
  {
   "cell_type": "code",
   "execution_count": null,
   "metadata": {},
   "outputs": [],
   "source": [
    "# we assume all pixels have unit area\n",
    "pixelSize = 1\n",
    "\n",
    "# TFCE parameters\n",
    "E = 2/3\n",
    "H = 2\n",
    "\n",
    "d_values = np.arange(10,30,10)\n",
    "numTimeit = 100\n",
    "\n",
    "time_old = np.zeros_like(d_values)\n",
    "time_topdown = np.zeros_like(d_values)\n",
    "\n",
    "for i, d in enumerate(d_values):\n",
    "    test = np.random.rand(d,d,d)*5\n",
    "    test_conn = meld.cluster.sparse_dim_connectivity([meld.cluster.simple_neighbors_1d(n)\n",
    "                                                      for n in test.shape])\n",
    "\n",
    "    colData = test.flatten()\n",
    "    areaData = pixelSize * np.ones_like(colData)\n",
    "\n",
    "    def tfce_old():\n",
    "        meld.cluster.tfce(colData,dt=0.001, E=E, H=H,tail=1, connectivity = test_conn)\n",
    "    def tfce_topdown():\n",
    "        meld.cluster_topdown.tfce_pos(colData, areaData, test_conn, param_E = E, param_H = H)\n",
    "\n",
    "    time_old[i] = timeit.timeit(tfce_old, number=numTimeit)\n",
    "    time_topdown[i] = timeit.timeit(tfce_topdown, number=numTimeit)\n"
   ]
  },
  {
   "cell_type": "code",
   "execution_count": null,
   "metadata": {},
   "outputs": [],
   "source": [
    "plt.plot(d_values, time_old)\n",
    "plt.plot(d_values, time_topdown)"
   ]
  },
  {
   "cell_type": "code",
   "execution_count": 7,
   "metadata": {},
   "outputs": [
    {
     "data": {
      "text/plain": [
       "1.5840743999942788"
      ]
     },
     "execution_count": 7,
     "metadata": {},
     "output_type": "execute_result"
    }
   ],
   "source": [
    "timeit.timeit(tfce_old, number=numTimeit)"
   ]
  },
  {
   "cell_type": "code",
   "execution_count": 8,
   "metadata": {},
   "outputs": [
    {
     "data": {
      "text/plain": [
       "34.7920535000012"
      ]
     },
     "execution_count": 8,
     "metadata": {},
     "output_type": "execute_result"
    }
   ],
   "source": [
    "timeit.timeit(tfce_topdown, number=numTimeit)"
   ]
  },
  {
   "cell_type": "code",
   "execution_count": 9,
   "metadata": {},
   "outputs": [
    {
     "data": {
      "text/plain": [
       "array([[[  4.96405272e-01,   8.74901511e-02,   3.31807321e-01, ...,\n",
       "           1.25181195e-01,   4.92109071e-01,   4.14824089e-01],\n",
       "        [  1.40409074e-01,   3.91662035e-01,   4.93035099e-01, ...,\n",
       "           7.99155079e-01,   2.40309894e-01,   3.63874385e-01],\n",
       "        [  2.10794882e-01,   7.23476965e-01,   5.82470216e-01, ...,\n",
       "           2.76828929e-01,   8.25803141e-01,   2.22788881e-01],\n",
       "        ..., \n",
       "        [  9.67279687e-01,   4.90616051e-01,   2.54703831e-01, ...,\n",
       "           4.43809371e-01,   1.97695364e-01,   6.14973719e-01],\n",
       "        [  4.67471529e-01,   8.80454500e-01,   8.36608208e-01, ...,\n",
       "           1.04804142e-01,   2.18211897e-01,   7.06312295e-01],\n",
       "        [  8.48278732e-01,   9.89023206e-01,   2.29914142e-01, ...,\n",
       "           5.93062666e-01,   7.56112952e-01,   2.27222669e-01]],\n",
       "\n",
       "       [[  9.95888629e-01,   6.41362174e-01,   1.23601417e-01, ...,\n",
       "           9.80902904e-01,   5.85473481e-01,   7.11781049e-01],\n",
       "        [  3.88003004e-01,   2.40893393e-01,   5.25280859e-01, ...,\n",
       "           1.48510732e-01,   2.57418869e-01,   2.32882240e-01],\n",
       "        [  9.62827524e-01,   2.66875689e-02,   4.12679725e-01, ...,\n",
       "           7.60644338e-02,   1.71682295e-01,   2.25340030e-01],\n",
       "        ..., \n",
       "        [  4.67860314e-01,   9.58270952e-01,   1.11918751e-01, ...,\n",
       "           4.73761783e-01,   8.61119747e-01,   3.37428879e-01],\n",
       "        [  3.10753403e-01,   4.53035398e-01,   1.73270801e-01, ...,\n",
       "           1.01116104e-01,   8.82168819e-01,   6.98612771e-01],\n",
       "        [  9.98852671e-01,   5.06867862e-02,   2.93132186e-01, ...,\n",
       "           6.52561841e-01,   3.40742048e-01,   4.28959823e-01]],\n",
       "\n",
       "       [[  9.70848873e-01,   2.27009123e-01,   5.35044015e-01, ...,\n",
       "           8.54220854e-02,   9.88961328e-01,   7.84439650e-01],\n",
       "        [  7.56567668e-01,   3.10523607e-01,   3.38794424e-01, ...,\n",
       "           3.43240849e-01,   1.14325275e-02,   7.90749125e-01],\n",
       "        [  7.13319622e-01,   1.42148593e-01,   4.27159508e-01, ...,\n",
       "           3.77445532e-01,   2.60792965e-01,   8.31328638e-01],\n",
       "        ..., \n",
       "        [  3.19595997e-01,   8.10626512e-01,   1.27892757e-01, ...,\n",
       "           1.59013134e-02,   6.11657885e-01,   6.22850016e-01],\n",
       "        [  2.51525683e-01,   3.63142301e-01,   3.81206042e-01, ...,\n",
       "           1.82930338e-01,   6.79610240e-01,   7.59814865e-01],\n",
       "        [  1.62078096e-01,   1.53121092e-01,   3.65114613e-01, ...,\n",
       "           1.17480021e-01,   2.32302988e-02,   8.98039062e-01]],\n",
       "\n",
       "       ..., \n",
       "       [[  3.28642233e-02,   8.41964298e-01,   4.85189650e-02, ...,\n",
       "           3.48160199e-01,   5.85286291e-01,   8.48748115e-01],\n",
       "        [  7.78336016e-01,   6.74198888e-01,   9.29744759e-01, ...,\n",
       "           5.03323181e-01,   4.19868408e-01,   1.10065999e-01],\n",
       "        [  8.07591015e-01,   4.91570258e-01,   7.09618622e-02, ...,\n",
       "           1.82147906e-01,   5.50928876e-01,   1.96058619e-01],\n",
       "        ..., \n",
       "        [  7.51265910e-01,   2.73955579e-01,   7.53937106e-01, ...,\n",
       "           9.61353911e-01,   4.99011331e-04,   3.30183429e-01],\n",
       "        [  3.14120841e-01,   4.03648115e-01,   3.18586998e-02, ...,\n",
       "           6.03868638e-01,   8.10840482e-01,   6.28376400e-01],\n",
       "        [  1.57816783e-02,   6.52603056e-01,   4.40655670e-02, ...,\n",
       "           5.24625812e-03,   7.03909415e-01,   5.20149081e-01]],\n",
       "\n",
       "       [[  9.56014111e-01,   7.04766072e-01,   1.92154999e-01, ...,\n",
       "           7.54265430e-01,   3.69586270e-01,   7.93543768e-01],\n",
       "        [  9.03112974e-01,   2.25392023e-01,   1.54554208e-01, ...,\n",
       "           4.90301297e-01,   9.03683066e-01,   6.47959561e-01],\n",
       "        [  5.53945844e-02,   1.55700763e-01,   5.41485477e-01, ...,\n",
       "           5.59903677e-01,   1.02084620e-01,   6.86554163e-01],\n",
       "        ..., \n",
       "        [  6.59801674e-01,   2.13456381e-01,   7.50703057e-01, ...,\n",
       "           9.95509246e-01,   4.29411066e-01,   5.37268548e-01],\n",
       "        [  3.84591115e-01,   2.19008166e-01,   9.92422729e-01, ...,\n",
       "           3.56563211e-01,   4.34649185e-01,   9.07129966e-02],\n",
       "        [  9.42504066e-01,   4.17933373e-01,   4.36180236e-01, ...,\n",
       "           8.53251247e-01,   6.60883648e-01,   6.76698531e-01]],\n",
       "\n",
       "       [[  6.62062152e-01,   6.38881270e-02,   2.98044844e-01, ...,\n",
       "           8.53458101e-01,   2.32327954e-01,   1.60571991e-01],\n",
       "        [  9.59631685e-01,   3.47193871e-01,   2.79991867e-02, ...,\n",
       "           7.68558315e-01,   4.96850611e-01,   1.44255506e-01],\n",
       "        [  6.31716339e-01,   8.30142656e-01,   9.84113422e-01, ...,\n",
       "           1.22916580e-01,   9.54736275e-01,   5.05507060e-01],\n",
       "        ..., \n",
       "        [  7.88173897e-01,   7.32770026e-01,   7.55412709e-01, ...,\n",
       "           3.73008956e-01,   1.23592169e-01,   5.71065098e-01],\n",
       "        [  2.74411895e-01,   2.79802621e-01,   8.54319844e-01, ...,\n",
       "           9.62875991e-01,   5.94304449e-01,   6.73631644e-01],\n",
       "        [  6.39109355e-02,   9.24155784e-02,   5.10133368e-01, ...,\n",
       "           9.75495253e-01,   5.37866984e-01,   3.65677060e-01]]])"
      ]
     },
     "execution_count": 9,
     "metadata": {},
     "output_type": "execute_result"
    }
   ],
   "source": [
    "test"
   ]
  },
  {
   "cell_type": "code",
   "execution_count": null,
   "metadata": {},
   "outputs": [],
   "source": []
  }
 ],
 "metadata": {
  "kernelspec": {
   "display_name": "Python 3",
   "language": "python",
   "name": "python3"
  },
  "language_info": {
   "codemirror_mode": {
    "name": "ipython",
    "version": 3
   },
   "file_extension": ".py",
   "mimetype": "text/x-python",
   "name": "python",
   "nbconvert_exporter": "python",
   "pygments_lexer": "ipython3",
   "version": "3.5.2"
  }
 },
 "nbformat": 4,
 "nbformat_minor": 2
}
