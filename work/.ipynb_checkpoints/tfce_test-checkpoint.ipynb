{
 "cells": [
  {
   "cell_type": "code",
   "execution_count": 1,
   "metadata": {},
   "outputs": [],
   "source": [
    "import meld\n",
    "import numpy as np\n",
    "\n",
    "import matplotlib.pyplot as plt\n",
    "% matplotlib inline"
   ]
  },
  {
   "cell_type": "code",
   "execution_count": 31,
   "metadata": {},
   "outputs": [
    {
     "data": {
      "text/plain": [
       "<matplotlib.lines.Line2D at 0x7fdc24a2c320>"
      ]
     },
     "execution_count": 31,
     "metadata": {},
     "output_type": "execute_result"
    },
    {
     "data": {
      "image/png": "[encoded data removed]",
      "text/plain": [
       "<Figure size 432x288 with 1 Axes>"
      ]
     },
     "metadata": {},
     "output_type": "display_data"
    }
   ],
   "source": [
    "test_conn = meld.cluster.sparse_dim_connectivity([meld.cluster.simple_neighbors_1d(n)\n",
    "                                               for n in (6,6)])\n",
    "\n",
    "plt.spy(test_conn)\n",
    "\n",
    "#test_conn.col[test_conn.row==1]\n",
    "#test_conn.row[test_conn.col==1]"
   ]
  },
  {
   "cell_type": "code",
   "execution_count": 32,
   "metadata": {},
   "outputs": [],
   "source": [
    "# we assume all pixels have unit area\n",
    "pixelSize = 1\n",
    "\n",
    "# TFCE parameters\n",
    "E = 2/3\n",
    "H = 2"
   ]
  },
  {
   "cell_type": "code",
   "execution_count": 33,
   "metadata": {},
   "outputs": [
    {
     "data": {
      "text/plain": [
       "41.666666666666664"
      ]
     },
     "execution_count": 33,
     "metadata": {},
     "output_type": "execute_result"
    }
   ],
   "source": [
    "# Test Case #1 : single non-zero pixel\n",
    "\n",
    "test = np.array([[ 0. ,  0. ,  0. ,  0. ,  0. ,  0. ],\n",
    "                 [ 0. ,  0. ,  0. ,  0. ,  0. ,  0. ],\n",
    "                 [ 0. ,  0. ,  0. ,  0. ,  0. ,  0. ],\n",
    "                 [ 0. ,  0. ,  0. ,  5. ,  0. ,  0. ],\n",
    "                 [ 0. ,  0. ,  0. ,  0. ,  0. ,  0. ],\n",
    "                 [ 0. ,  0. ,  0. ,  0. ,  0. ,  0. ]])\n",
    "\n",
    "\n",
    "trueTFCE = np.power(pixelSize,E) * np.power(5.,H+1) / (H+1)\n",
    "trueTFCE"
   ]
  },
  {
   "cell_type": "markdown",
   "metadata": {},
   "source": [
    "Approximate the integral as: $\\int_0^h_p e(h)^E h^H dh \\approx \\sum_{i=0}^{i=\\frac{h_p}{\\delta h}} e(i \\delta h)^E (i \\delta h)^H \\delta h$"
   ]
  },
  {
   "cell_type": "code",
   "execution_count": 5,
   "metadata": {},
   "outputs": [
    {
     "data": {
      "text/plain": [
       "41.541750000000008"
      ]
     },
     "execution_count": 5,
     "metadata": {},
     "output_type": "execute_result"
    }
   ],
   "source": [
    "dh = .01\n",
    "np.sum(np.power(pixelSize, E) * np.power(np.arange(0.,5.,dh), H) * dh)"
   ]
  },
  {
   "cell_type": "code",
   "execution_count": 6,
   "metadata": {},
   "outputs": [
    {
     "data": {
      "text/plain": [
       "array([  0.        ,   0.        ,   0.        ,   0.        ,\n",
       "         0.        ,   0.        ,   0.        ,   0.        ,\n",
       "         0.        ,   0.        ,   0.        ,   0.        ,\n",
       "         0.        ,   0.        ,   0.        ,   0.        ,\n",
       "         0.        ,   0.        ,   0.        ,   0.        ,\n",
       "         0.        ,  41.66666667,   0.        ,   0.        ,\n",
       "         0.        ,   0.        ,   0.        ,   0.        ,\n",
       "         0.        ,   0.        ,   0.        ,   0.        ,\n",
       "         0.        ,   0.        ,   0.        ,   0.        ])"
      ]
     },
     "execution_count": 6,
     "metadata": {},
     "output_type": "execute_result"
    }
   ],
   "source": [
    "colData = test.flatten()\n",
    "areaData = pixelSize * np.ones_like(colData)\n",
    "tres_topdown = meld.cluster_topdown.tfce_pos(colData, areaData, test_conn, param_E = E, param_H = H)\n",
    "tres_topdown"
   ]
  },
  {
   "cell_type": "code",
   "execution_count": 7,
   "metadata": {},
   "outputs": [
    {
     "data": {
      "text/plain": [
       "104.99342082457277"
      ]
     },
     "execution_count": 7,
     "metadata": {},
     "output_type": "execute_result"
    }
   ],
   "source": [
    "# Test Case #2 : single non-zero cluster\n",
    "test = np.array([[ 0. ,  0. ,  0. ,  0. ,  0. ,  0. ],\n",
    "                 [ 0. ,  0. ,  0. ,  0. ,  0. ,  0. ],\n",
    "                 [ 0. ,  0. ,  0. ,  0. ,  0. ,  0. ],\n",
    "                 [ 0. ,  0. ,  0. ,  5. ,  5. ,  0. ],\n",
    "                 [ 0. ,  0. ,  0. ,  5. ,  5. ,  0. ],\n",
    "                 [ 0. ,  0. ,  0. ,  0. ,  0. ,  0. ]])\n",
    "\n",
    "trueTFCE = np.power(4*pixelSize,E) * np.power(5.,H+1) / (H+1)\n",
    "trueTFCE"
   ]
  },
  {
   "cell_type": "code",
   "execution_count": 8,
   "metadata": {},
   "outputs": [
    {
     "data": {
      "text/plain": [
       "array([   0.        ,    0.        ,    0.        ,    0.        ,\n",
       "          0.        ,    0.        ,    0.        ,    0.        ,\n",
       "          0.        ,    0.        ,    0.        ,    0.        ,\n",
       "          0.        ,    0.        ,    0.        ,    0.        ,\n",
       "          0.        ,    0.        ,    0.        ,    0.        ,\n",
       "          0.        ,  104.99342082,  104.99342082,    0.        ,\n",
       "          0.        ,    0.        ,    0.        ,  104.99342082,\n",
       "        104.99342082,    0.        ,    0.        ,    0.        ,\n",
       "          0.        ,    0.        ,    0.        ,    0.        ])"
      ]
     },
     "execution_count": 8,
     "metadata": {},
     "output_type": "execute_result"
    }
   ],
   "source": [
    "# run using cluster_topdown\n",
    "\n",
    "colData = test.flatten()\n",
    "areaData = pixelSize * np.ones_like(colData)\n",
    "tres_topdown = meld.cluster_topdown.tfce_pos(colData, areaData, test_conn, param_E = E, param_H = H)\n",
    "tres_topdown"
   ]
  },
  {
   "cell_type": "code",
   "execution_count": 34,
   "metadata": {},
   "outputs": [
    {
     "name": "stdout",
     "output_type": "stream",
     "text": [
      "trueTFCE_3 = 104.993420825\n",
      "trueTFCE_5 = 14.2866094677\n"
     ]
    }
   ],
   "source": [
    "# Test Case #3 : two isolated non-zero clusters\n",
    "test = np.array([[ 3. ,  3. ,  0. ,  0. ,  0. ,  0. ],\n",
    "                 [ 0. ,  0. ,  0. ,  0. ,  0. ,  0. ],\n",
    "                 [ 0. ,  0. ,  0. ,  0. ,  0. ,  0. ],\n",
    "                 [ 0. ,  0. ,  0. ,  5. ,  5. ,  0. ],\n",
    "                 [ 0. ,  0. ,  0. ,  5. ,  5. ,  0. ],\n",
    "                 [ 0. ,  0. ,  0. ,  0. ,  0. ,  0. ]])\n",
    "\n",
    "trueTFCE_3 = np.power(4*pixelSize,E) * np.power(5.,H+1) / (H+1)\n",
    "print('trueTFCE_3 = ' + str(trueTFCE_3))\n",
    "\n",
    "trueTFCE_5 = np.power(2*pixelSize,E) * np.power(3.,H+1) / (H+1)\n",
    "print('trueTFCE_5 = ' + str(trueTFCE_5))"
   ]
  },
  {
   "cell_type": "code",
   "execution_count": 35,
   "metadata": {},
   "outputs": [
    {
     "data": {
      "text/plain": [
       "array([  14.28660947,   14.28660947,    0.        ,    0.        ,\n",
       "          0.        ,    0.        ,    0.        ,    0.        ,\n",
       "          0.        ,    0.        ,    0.        ,    0.        ,\n",
       "          0.        ,    0.        ,    0.        ,    0.        ,\n",
       "          0.        ,    0.        ,    0.        ,    0.        ,\n",
       "          0.        ,  104.99342082,  104.99342082,    0.        ,\n",
       "          0.        ,    0.        ,    0.        ,  104.99342082,\n",
       "        104.99342082,    0.        ,    0.        ,    0.        ,\n",
       "          0.        ,    0.        ,    0.        ,    0.        ])"
      ]
     },
     "execution_count": 35,
     "metadata": {},
     "output_type": "execute_result"
    }
   ],
   "source": [
    "# run using cluster_topdown\n",
    "\n",
    "colData = test.flatten()\n",
    "areaData = pixelSize * np.ones_like(colData)\n",
    "tres_topdown = meld.cluster_topdown.tfce_pos(colData, areaData, test_conn, param_E = E, param_H = H)\n",
    "tres_topdown"
   ]
  },
  {
   "cell_type": "code",
   "execution_count": 36,
   "metadata": {},
   "outputs": [
    {
     "name": "stdout",
     "output_type": "stream",
     "text": [
      "trueTFCE_2 = 13.1895665153\n",
      "trueTFCE_3 = 29.1485664807\n",
      "trueTFCE_5 = 111.463408407\n"
     ]
    }
   ],
   "source": [
    "# Test Case #3 : two non-isolated non-zero clusters (peaks)\n",
    "test = np.array([[ 3. ,  3. ,  0. ,  0. ,  0. ,  0. ],\n",
    "                 [ 3. ,  3. ,  2. ,  0. ,  0. ,  0. ],\n",
    "                 [ 0. ,  0. ,  2. ,  0. ,  0. ,  0. ],\n",
    "                 [ 0. ,  0. ,  2. ,  5. ,  5. ,  0. ],\n",
    "                 [ 0. ,  0. ,  0. ,  5. ,  5. ,  0. ],\n",
    "                 [ 0. ,  0. ,  0. ,  0. ,  0. ,  0. ]])\n",
    "\n",
    "trueTFCE_2 = np.power(11*pixelSize,E) * np.power(2.,H+1) / (H+1)\n",
    "print('trueTFCE_2 = ' + str(trueTFCE_2))\n",
    "\n",
    "trueTFCE_3 = trueTFCE_2 + np.power(4*pixelSize, E) * ( np.power(3., H+1) - np.power(2., H+1) ) / (H+1)\n",
    "print('trueTFCE_3 = ' + str(trueTFCE_3))\n",
    "\n",
    "trueTFCE_5 = trueTFCE_2 + np.power(4*pixelSize, E) * ( np.power(5., H+1) - np.power(2., H+1) ) / (H+1)\n",
    "print('trueTFCE_5 = ' + str(trueTFCE_5))"
   ]
  },
  {
   "cell_type": "code",
   "execution_count": 37,
   "metadata": {},
   "outputs": [
    {
     "data": {
      "text/plain": [
       "array([  29.14856648,   29.14856648,    0.        ,    0.        ,\n",
       "          0.        ,    0.        ,   29.14856648,   29.14856648,\n",
       "         13.18956652,    0.        ,    0.        ,    0.        ,\n",
       "          0.        ,    0.        ,   13.18956652,    0.        ,\n",
       "          0.        ,    0.        ,    0.        ,    0.        ,\n",
       "         13.18956652,  111.46340841,  111.46340841,    0.        ,\n",
       "          0.        ,    0.        ,    0.        ,  111.46340841,\n",
       "        111.46340841,    0.        ,    0.        ,    0.        ,\n",
       "          0.        ,    0.        ,    0.        ,    0.        ])"
      ]
     },
     "execution_count": 37,
     "metadata": {},
     "output_type": "execute_result"
    }
   ],
   "source": [
    "# run using cluster_topdown\n",
    "\n",
    "colData = test.flatten()\n",
    "areaData = pixelSize * np.ones_like(colData)\n",
    "tres_topdown = meld.cluster_topdown.tfce_pos(colData, areaData, test_conn, param_E = E, param_H = H)\n",
    "tres_topdown"
   ]
  },
  {
   "cell_type": "code",
   "execution_count": 2,
   "metadata": {},
   "outputs": [],
   "source": [
    "import timeit"
   ]
  },
  {
   "cell_type": "code",
   "execution_count": 39,
   "metadata": {},
   "outputs": [],
   "source": [
    "def tfce_old():\n",
    "    meld.cluster.tfce(colData,dt=0.1, E=E, H=H,tail=1, connectivity = test_conn)"
   ]
  },
  {
   "cell_type": "code",
   "execution_count": 40,
   "metadata": {},
   "outputs": [],
   "source": [
    "def tfce_topdown():\n",
    "    meld.cluster_topdown.tfce_pos(colData, areaData, test_conn, param_E = E, param_H = H)"
   ]
  },
  {
   "cell_type": "code",
   "execution_count": 52,
   "metadata": {},
   "outputs": [
    {
     "data": {
      "text/plain": [
       "0.25345190000371076"
      ]
     },
     "execution_count": 52,
     "metadata": {},
     "output_type": "execute_result"
    }
   ],
   "source": [
    "time_topdown = timeit.timeit(tfce_topdown, number=1000)\n",
    "time_topdown"
   ]
  },
  {
   "cell_type": "code",
   "execution_count": 42,
   "metadata": {},
   "outputs": [
    {
     "data": {
      "text/plain": [
       "9.084642599998915"
      ]
     },
     "execution_count": 42,
     "metadata": {},
     "output_type": "execute_result"
    }
   ],
   "source": [
    "timeit.timeit(tfce_old, number=1000)"
   ]
  },
  {
   "cell_type": "code",
   "execution_count": 43,
   "metadata": {},
   "outputs": [
    {
     "data": {
      "text/plain": [
       "36.481979991160756"
      ]
     },
     "execution_count": 43,
     "metadata": {},
     "output_type": "execute_result"
    }
   ],
   "source": [
    "9.08/.24889"
   ]
  },
  {
   "cell_type": "code",
   "execution_count": 3,
   "metadata": {},
   "outputs": [],
   "source": [
    "# we assume all pixels have unit area\n",
    "pixelSize = 1\n",
    "\n",
    "# TFCE parameters\n",
    "E = 2/3\n",
    "H = 2\n",
    "\n",
    "d_values = np.arange(10,30,10)\n",
    "numTimeit = 100\n",
    "\n",
    "time_old = np.zeros_like(d_values)\n",
    "time_topdown = np.zeros_like(d_values)\n",
    "\n",
    "for i, d in enumerate(d_values):\n",
    "    test = np.random.rand(d,d,d)\n",
    "    test_conn = meld.cluster.sparse_dim_connectivity([meld.cluster.simple_neighbors_1d(n)\n",
    "                                                      for n in test.shape])\n",
    "\n",
    "    colData = test.flatten()\n",
    "    areaData = pixelSize * np.ones_like(colData)\n",
    "\n",
    "    def tfce_old():\n",
    "        meld.cluster.tfce(colData,dt=0.1, E=E, H=H,tail=1, connectivity = test_conn)\n",
    "    def tfce_topdown():\n",
    "        meld.cluster_topdown.tfce_pos(colData, areaData, test_conn, param_E = E, param_H = H)\n",
    "\n",
    "    time_old[i] = timeit.timeit(tfce_old, number=numTimeit)\n",
    "    time_topdown[i] = timeit.timeit(tfce_topdown, number=numTimeit)\n"
   ]
  },
  {
   "cell_type": "code",
   "execution_count": 4,
   "metadata": {},
   "outputs": [
    {
     "data": {
      "text/plain": [
       "[<matplotlib.lines.Line2D at 0x7fa0a6d31588>]"
      ]
     },
     "execution_count": 4,
     "metadata": {},
     "output_type": "execute_result"
    },
    {
     "data": {
      "image/png": "[encoded data removed]",
      "text/plain": [
       "<Figure size 432x288 with 1 Axes>"
      ]
     },
     "metadata": {},
     "output_type": "display_data"
    }
   ],
   "source": [
    "plt.plot(d_values, time_old)"
   ]
  },
  {
   "cell_type": "code",
   "execution_count": 7,
   "metadata": {},
   "outputs": [
    {
     "data": {
      "text/plain": [
       "1.5840743999942788"
      ]
     },
     "execution_count": 7,
     "metadata": {},
     "output_type": "execute_result"
    }
   ],
   "source": [
    "timeit.timeit(tfce_old, number=numTimeit)"
   ]
  },
  {
   "cell_type": "code",
   "execution_count": null,
   "metadata": {},
   "outputs": [],
   "source": [
    "timeit.timeit(tfce_topdown, number=numTimeit)"
   ]
  },
  {
   "cell_type": "code",
   "execution_count": null,
   "metadata": {},
   "outputs": [],
   "source": []
  }
 ],
 "metadata": {
  "kernelspec": {
   "display_name": "Python 3",
   "language": "python",
   "name": "python3"
  },
  "language_info": {
   "codemirror_mode": {
    "name": "ipython",
    "version": 3
   },
   "file_extension": ".py",
   "mimetype": "text/x-python",
   "name": "python",
   "nbconvert_exporter": "python",
   "pygments_lexer": "ipython3",
   "version": "3.5.2"
  }
 },
 "nbformat": 4,
 "nbformat_minor": 2
}
